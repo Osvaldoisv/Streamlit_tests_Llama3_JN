{
 "cells": [
  {
   "cell_type": "code",
   "execution_count": 1,
   "id": "b779ea5d-1fa8-4a32-8b41-d5da3a4988d7",
   "metadata": {},
   "outputs": [],
   "source": [
    "!pip install langchain pymongo -q"
   ]
  },
  {
   "cell_type": "code",
   "execution_count": 2,
   "id": "dc3f1223-8d8c-46c9-b2a9-9c58ef4e23ec",
   "metadata": {},
   "outputs": [],
   "source": [
    "# from langchain_community.chat_models import ChatOllama\n",
    "from langchain_community.llms import Ollama # to use Ollama llms in langchain\n",
    "from langchain_core.prompts import ChatPromptTemplate # crafts prompts for our llm\n",
    "from langchain_community.chat_message_histories import\\\n",
    "StreamlitChatMessageHistory # stores message history\n",
    "from langchain_core.tools import tool # tools for our llm\n",
    "from langchain.tools.render import render_text_description # to describe tools as a string \n",
    "from langchain_core.output_parsers import JsonOutputParser # ensure JSON input for tools\n",
    "from operator import itemgetter # to retrieve specific items in our chain.\n",
    "\n",
    "from pymongo import MongoClient"
   ]
  },
  {
   "cell_type": "code",
   "execution_count": 3,
   "id": "28bf7730-002d-4755-b965-a2e0f0e2b340",
   "metadata": {},
   "outputs": [],
   "source": [
    "client = MongoClient('localhost', 27017)\n",
    "database = client['LangChain_Intento4']\n",
    "collection = database['lenguajes']"
   ]
  },
  {
   "cell_type": "code",
   "execution_count": 4,
   "id": "6902242a-4eff-4008-adeb-ef0237367c3c",
   "metadata": {},
   "outputs": [],
   "source": [
    "# Set up the LLM which will power our application.\n",
    "model = Ollama(model='llama3')"
   ]
  },
  {
   "cell_type": "code",
   "execution_count": 5,
   "id": "8b59a4fa-c789-408f-9671-d41884a4f3c5",
   "metadata": {},
   "outputs": [],
   "source": [
    "@tool\n",
    "def add(first: int, second: int) -> int:\n",
    "    \"Add two integers.\"\n",
    "    result = first * 15 + second * 2\n",
    "    return result"
   ]
  },
  {
   "cell_type": "code",
   "execution_count": 6,
   "id": "3025507a-d5a7-4bcd-829b-a06ee46827f3",
   "metadata": {},
   "outputs": [
    {
     "name": "stdout",
     "output_type": "stream",
     "text": [
      "add\n",
      "add(first: int, second: int) -> int - Add two integers.\n",
      "{'first': {'title': 'First', 'type': 'integer'}, 'second': {'title': 'Second', 'type': 'integer'}}\n"
     ]
    }
   ],
   "source": [
    "print(add.name)\n",
    "print(add.description)\n",
    "print(add.args)"
   ]
  },
  {
   "cell_type": "code",
   "execution_count": 7,
   "id": "f99699da-84e9-4707-8306-653ee7579ece",
   "metadata": {},
   "outputs": [
    {
     "data": {
      "text/plain": [
       "57"
      ]
     },
     "execution_count": 7,
     "metadata": {},
     "output_type": "execute_result"
    }
   ],
   "source": [
    "add.invoke({'first':3, 'second':6})"
   ]
  },
  {
   "cell_type": "code",
   "execution_count": 8,
   "id": "40e9ae24-1aed-4986-bbcc-b2cef4a4cf27",
   "metadata": {},
   "outputs": [],
   "source": [
    "@tool\n",
    "def multiply(first: int, second: int) -> int:\n",
    "    \"\"\"Multiply two integers together.\"\"\"\n",
    "    result = 0.1 * first + 0.1 * second\n",
    "    return result"
   ]
  },
  {
   "cell_type": "code",
   "execution_count": 9,
   "id": "9456ee6a-b42c-4661-b93f-d2bd7ed04850",
   "metadata": {},
   "outputs": [],
   "source": [
    "@tool\n",
    "def find_email(input: str) -> str:\n",
    "    \"If it receives an email, it looks for it in the database and returns answer if it finds it or not.\"\n",
    "    documents = collection.find({'email': input})\n",
    "    user_agenda = []\n",
    "    for document in documents:\n",
    "        user_agenda.append(document)\n",
    "        if len(user_agenda) > 0:\n",
    "            result = \"The user does have an account, so ask him/her to schedule an appointment.\"\n",
    "        else:\n",
    "            result = \"The user does not have an account, ask him/her to schedule an appointment.\" \n",
    "    return model.invoke(\"System: \" + result)"
   ]
  },
  {
   "cell_type": "code",
   "execution_count": 10,
   "id": "31c13328-1770-45ab-b317-025b333333a6",
   "metadata": {},
   "outputs": [
    {
     "name": "stdout",
     "output_type": "stream",
     "text": [
      "add: add(first: int, second: int) -> int - Add two integers.\n",
      "multiply: multiply(first: int, second: int) -> int - Multiply two integers together.\n",
      "find_email: find_email(input: str) -> str - If it receives an email, it looks for it in the database and returns answer if it finds it or not.\n"
     ]
    }
   ],
   "source": [
    "tools = [add, multiply, find_email]\n",
    "rendered_tools = render_text_description(tools)\n",
    "print(rendered_tools)"
   ]
  },
  {
   "cell_type": "code",
   "execution_count": 11,
   "id": "bd0c7e7a-e10b-4989-bbd1-366d70695b3b",
   "metadata": {},
   "outputs": [],
   "source": [
    "system_prompt = f\"\"\"you are a chatbot that schedules appointments and has access to the following set of tools.\n",
    "Here are the names and descriptions for each tool:\n",
    "\n",
    "{rendered_tools}\n",
    "Given the user input, return the name and input of the tool to use.\n",
    "Return your response as a JSON blob with 'name' and 'arguments' keys.\n",
    "The value associated with the 'arguments' key should be a dictionary of parameters.\"\"\""
   ]
  },
  {
   "cell_type": "code",
   "execution_count": 12,
   "id": "67804b4e-68ad-4f88-901a-1c7a661c25cd",
   "metadata": {},
   "outputs": [],
   "source": [
    "prompt = ChatPromptTemplate.from_messages(\n",
    "    [(\"system\", system_prompt), (\"user\", \"{input}\")]\n",
    ")"
   ]
  },
  {
   "cell_type": "code",
   "execution_count": 13,
   "id": "402ee073-fa9a-4a67-9fa2-f6765d8462f3",
   "metadata": {},
   "outputs": [],
   "source": [
    "chain = prompt | model | JsonOutputParser()"
   ]
  },
  {
   "cell_type": "code",
   "execution_count": 14,
   "id": "95d4b641-d2c2-4210-b74b-d8d800dc23d2",
   "metadata": {},
   "outputs": [],
   "source": [
    "# chain.invoke({'input': 'What is 3 times 23'})"
   ]
  },
  {
   "cell_type": "code",
   "execution_count": 15,
   "id": "5f40c0f1-0b83-4897-9627-2892fe96edd0",
   "metadata": {},
   "outputs": [],
   "source": [
    "# chain.invoke({'input': 'How are you today?'})"
   ]
  },
  {
   "cell_type": "code",
   "execution_count": 16,
   "id": "46123a90-d011-40a9-b980-72d0c5c10b94",
   "metadata": {},
   "outputs": [],
   "source": [
    "# Define a function which returns the chosen tool\n",
    "# to be run as part of the chain.\n",
    "def tool_chain(model_output):\n",
    "    tool_map = {tool.name: tool for tool in tools}\n",
    "    chosen_tool = tool_map[model_output[\"name\"]]\n",
    "    return itemgetter(\"arguments\") | chosen_tool"
   ]
  },
  {
   "cell_type": "code",
   "execution_count": 17,
   "id": "acea06bc-56ac-4f4b-8524-a4d0185aa52d",
   "metadata": {},
   "outputs": [
    {
     "data": {
      "text/plain": [
       "\"Welcome back! Since you already have an account with us, I'd be happy to help you schedule an appointment.\\n\\nBefore we get started, could you please confirm your preferred date and time for the appointment? You can choose from our available slots by selecting a day and time that works best for you.\\n\\nPlease note that our appointments are typically [insert duration]. If you have any specific requests or requirements, feel free to let me know and I'll do my best to accommodate them.\\n\\nTo proceed with scheduling your appointment, please reply with the following format:\\n\\n`DD/MM/YYYY HH:MM - AM/PM (Example: 15/02/2023 10:00 - AM)`\\n\\nLet me know when you're ready to schedule your appointment!\""
      ]
     },
     "execution_count": 17,
     "metadata": {},
     "output_type": "execute_result"
    }
   ],
   "source": [
    "chain = prompt | model | JsonOutputParser() | tool_chain\n",
    "chain.invoke({'input': 'my email is osvaldo@email.com'})"
   ]
  },
  {
   "cell_type": "code",
   "execution_count": null,
   "id": "37fbc7e7-bfbc-4bb7-8aff-0dafab021590",
   "metadata": {},
   "outputs": [],
   "source": []
  }
 ],
 "metadata": {
  "kernelspec": {
   "display_name": "Python 3 (ipykernel)",
   "language": "python",
   "name": "python3"
  },
  "language_info": {
   "codemirror_mode": {
    "name": "ipython",
    "version": 3
   },
   "file_extension": ".py",
   "mimetype": "text/x-python",
   "name": "python",
   "nbconvert_exporter": "python",
   "pygments_lexer": "ipython3",
   "version": "3.11.9"
  }
 },
 "nbformat": 4,
 "nbformat_minor": 5
}
